{
 "cells": [
  {
   "cell_type": "markdown",
   "id": "fbe92ed8",
   "metadata": {},
   "source": [
    "# 데이터 선정\n",
    "\n",
    "[NOAA Mauna Loa CO2 record](https://gml.noaa.gov/ccgg/trends) : 미국 Hawaii Mauna Loa에서 주기적으로 측정한 이산화탄소(CO2) 데이터\n",
    "> - co2_mm_mlo.csv : monthly mean data\n",
    "> - co2_annmean_mlo.csv : annual mean data\n",
    "> - co2_gr_mlo.csv : annual mean **growth rates**\n",
    "> - co2_weekly_mlo.csv : weekly mean and **historical comparisons**\n",
    "\n",
    "이산화탄소 데이터랑 지구 온도 데이터를 scaling해서 겹쳐서 그래프를 그리면 어떻까?"
   ]
  },
  {
   "cell_type": "code",
   "execution_count": 64,
   "id": "658df1ed",
   "metadata": {
    "ExecuteTime": {
     "end_time": "2022-06-05T13:28:05.069223Z",
     "start_time": "2022-06-05T13:28:05.054228Z"
    }
   },
   "outputs": [],
   "source": [
    "import numpy as np\n",
    "import pandas as pd\n",
    "import matplotlib.pyplot as plt\n",
    "import seaborn as sns\n",
    "import datetime as dt\n",
    "%matplotlib inline"
   ]
  },
  {
   "cell_type": "markdown",
   "id": "8f3af38c",
   "metadata": {},
   "source": [
    "1 monthly mean data"
   ]
  },
  {
   "cell_type": "code",
   "execution_count": 65,
   "id": "3a1cd101",
   "metadata": {
    "ExecuteTime": {
     "end_time": "2022-06-05T13:28:07.822089Z",
     "start_time": "2022-06-05T13:28:07.793531Z"
    }
   },
   "outputs": [],
   "source": [
    "# 이산화탄소 데이터 불러오기\n",
    "mm = pd.read_csv('./data/co2_mm_mlo.csv')"
   ]
  },
  {
   "cell_type": "code",
   "execution_count": 71,
   "id": "6d694e6c",
   "metadata": {
    "ExecuteTime": {
     "end_time": "2022-06-05T13:28:28.141038Z",
     "start_time": "2022-06-05T13:28:28.123473Z"
    }
   },
   "outputs": [
    {
     "data": {
      "text/plain": [
       "(771, 8)"
      ]
     },
     "execution_count": 71,
     "metadata": {},
     "output_type": "execute_result"
    }
   ],
   "source": [
    "mm.shape"
   ]
  },
  {
   "cell_type": "code",
   "execution_count": 72,
   "id": "0ec0b793",
   "metadata": {
    "ExecuteTime": {
     "end_time": "2022-06-05T13:28:30.110871Z",
     "start_time": "2022-06-05T13:28:30.066868Z"
    },
    "scrolled": true
   },
   "outputs": [
    {
     "data": {
      "text/html": [
       "<div>\n",
       "<style scoped>\n",
       "    .dataframe tbody tr th:only-of-type {\n",
       "        vertical-align: middle;\n",
       "    }\n",
       "\n",
       "    .dataframe tbody tr th {\n",
       "        vertical-align: top;\n",
       "    }\n",
       "\n",
       "    .dataframe thead th {\n",
       "        text-align: right;\n",
       "    }\n",
       "</style>\n",
       "<table border=\"1\" class=\"dataframe\">\n",
       "  <thead>\n",
       "    <tr style=\"text-align: right;\">\n",
       "      <th></th>\n",
       "      <th>year</th>\n",
       "      <th>month</th>\n",
       "      <th>decimal date</th>\n",
       "      <th>average</th>\n",
       "      <th>deseasonalized</th>\n",
       "      <th>ndays</th>\n",
       "      <th>sdev</th>\n",
       "      <th>unc</th>\n",
       "    </tr>\n",
       "  </thead>\n",
       "  <tbody>\n",
       "    <tr>\n",
       "      <th>0</th>\n",
       "      <td>1958</td>\n",
       "      <td>3</td>\n",
       "      <td>1958.2027</td>\n",
       "      <td>315.70</td>\n",
       "      <td>314.43</td>\n",
       "      <td>-1</td>\n",
       "      <td>-9.99</td>\n",
       "      <td>-0.99</td>\n",
       "    </tr>\n",
       "    <tr>\n",
       "      <th>1</th>\n",
       "      <td>1958</td>\n",
       "      <td>4</td>\n",
       "      <td>1958.2877</td>\n",
       "      <td>317.45</td>\n",
       "      <td>315.16</td>\n",
       "      <td>-1</td>\n",
       "      <td>-9.99</td>\n",
       "      <td>-0.99</td>\n",
       "    </tr>\n",
       "    <tr>\n",
       "      <th>2</th>\n",
       "      <td>1958</td>\n",
       "      <td>5</td>\n",
       "      <td>1958.3699</td>\n",
       "      <td>317.51</td>\n",
       "      <td>314.71</td>\n",
       "      <td>-1</td>\n",
       "      <td>-9.99</td>\n",
       "      <td>-0.99</td>\n",
       "    </tr>\n",
       "    <tr>\n",
       "      <th>3</th>\n",
       "      <td>1958</td>\n",
       "      <td>6</td>\n",
       "      <td>1958.4548</td>\n",
       "      <td>317.24</td>\n",
       "      <td>315.14</td>\n",
       "      <td>-1</td>\n",
       "      <td>-9.99</td>\n",
       "      <td>-0.99</td>\n",
       "    </tr>\n",
       "    <tr>\n",
       "      <th>4</th>\n",
       "      <td>1958</td>\n",
       "      <td>7</td>\n",
       "      <td>1958.5370</td>\n",
       "      <td>315.86</td>\n",
       "      <td>315.18</td>\n",
       "      <td>-1</td>\n",
       "      <td>-9.99</td>\n",
       "      <td>-0.99</td>\n",
       "    </tr>\n",
       "  </tbody>\n",
       "</table>\n",
       "</div>"
      ],
      "text/plain": [
       "   year  month  decimal date  average  deseasonalized  ndays  sdev   unc\n",
       "0  1958      3     1958.2027   315.70          314.43     -1 -9.99 -0.99\n",
       "1  1958      4     1958.2877   317.45          315.16     -1 -9.99 -0.99\n",
       "2  1958      5     1958.3699   317.51          314.71     -1 -9.99 -0.99\n",
       "3  1958      6     1958.4548   317.24          315.14     -1 -9.99 -0.99\n",
       "4  1958      7     1958.5370   315.86          315.18     -1 -9.99 -0.99"
      ]
     },
     "execution_count": 72,
     "metadata": {},
     "output_type": "execute_result"
    }
   ],
   "source": [
    "mm.head()"
   ]
  },
  {
   "cell_type": "code",
   "execution_count": 73,
   "id": "063d6a88",
   "metadata": {
    "ExecuteTime": {
     "end_time": "2022-06-05T13:28:32.557119Z",
     "start_time": "2022-06-05T13:28:32.510549Z"
    }
   },
   "outputs": [
    {
     "data": {
      "text/html": [
       "<div>\n",
       "<style scoped>\n",
       "    .dataframe tbody tr th:only-of-type {\n",
       "        vertical-align: middle;\n",
       "    }\n",
       "\n",
       "    .dataframe tbody tr th {\n",
       "        vertical-align: top;\n",
       "    }\n",
       "\n",
       "    .dataframe thead th {\n",
       "        text-align: right;\n",
       "    }\n",
       "</style>\n",
       "<table border=\"1\" class=\"dataframe\">\n",
       "  <thead>\n",
       "    <tr style=\"text-align: right;\">\n",
       "      <th></th>\n",
       "      <th>year</th>\n",
       "      <th>month</th>\n",
       "      <th>decimal date</th>\n",
       "      <th>average</th>\n",
       "      <th>deseasonalized</th>\n",
       "      <th>ndays</th>\n",
       "      <th>sdev</th>\n",
       "      <th>unc</th>\n",
       "    </tr>\n",
       "  </thead>\n",
       "  <tbody>\n",
       "    <tr>\n",
       "      <th>766</th>\n",
       "      <td>2022</td>\n",
       "      <td>1</td>\n",
       "      <td>2022.0417</td>\n",
       "      <td>418.19</td>\n",
       "      <td>417.82</td>\n",
       "      <td>29</td>\n",
       "      <td>0.73</td>\n",
       "      <td>0.26</td>\n",
       "    </tr>\n",
       "    <tr>\n",
       "      <th>767</th>\n",
       "      <td>2022</td>\n",
       "      <td>2</td>\n",
       "      <td>2022.1250</td>\n",
       "      <td>419.28</td>\n",
       "      <td>418.32</td>\n",
       "      <td>27</td>\n",
       "      <td>0.92</td>\n",
       "      <td>0.34</td>\n",
       "    </tr>\n",
       "    <tr>\n",
       "      <th>768</th>\n",
       "      <td>2022</td>\n",
       "      <td>3</td>\n",
       "      <td>2022.2083</td>\n",
       "      <td>418.81</td>\n",
       "      <td>417.34</td>\n",
       "      <td>30</td>\n",
       "      <td>0.78</td>\n",
       "      <td>0.27</td>\n",
       "    </tr>\n",
       "    <tr>\n",
       "      <th>769</th>\n",
       "      <td>2022</td>\n",
       "      <td>4</td>\n",
       "      <td>2022.2917</td>\n",
       "      <td>420.23</td>\n",
       "      <td>417.55</td>\n",
       "      <td>28</td>\n",
       "      <td>0.85</td>\n",
       "      <td>0.31</td>\n",
       "    </tr>\n",
       "    <tr>\n",
       "      <th>770</th>\n",
       "      <td>2022</td>\n",
       "      <td>5</td>\n",
       "      <td>2022.3750</td>\n",
       "      <td>420.99</td>\n",
       "      <td>417.57</td>\n",
       "      <td>30</td>\n",
       "      <td>0.76</td>\n",
       "      <td>0.27</td>\n",
       "    </tr>\n",
       "  </tbody>\n",
       "</table>\n",
       "</div>"
      ],
      "text/plain": [
       "     year  month  decimal date  average  deseasonalized  ndays  sdev   unc\n",
       "766  2022      1     2022.0417   418.19          417.82     29  0.73  0.26\n",
       "767  2022      2     2022.1250   419.28          418.32     27  0.92  0.34\n",
       "768  2022      3     2022.2083   418.81          417.34     30  0.78  0.27\n",
       "769  2022      4     2022.2917   420.23          417.55     28  0.85  0.31\n",
       "770  2022      5     2022.3750   420.99          417.57     30  0.76  0.27"
      ]
     },
     "execution_count": 73,
     "metadata": {},
     "output_type": "execute_result"
    }
   ],
   "source": [
    "mm.tail()"
   ]
  },
  {
   "cell_type": "code",
   "execution_count": 74,
   "id": "94e1a59f",
   "metadata": {
    "ExecuteTime": {
     "end_time": "2022-06-05T13:28:36.047806Z",
     "start_time": "2022-06-05T13:28:36.012809Z"
    }
   },
   "outputs": [
    {
     "name": "stdout",
     "output_type": "stream",
     "text": [
      "<class 'pandas.core.frame.DataFrame'>\n",
      "RangeIndex: 771 entries, 0 to 770\n",
      "Data columns (total 8 columns):\n",
      " #   Column          Non-Null Count  Dtype  \n",
      "---  ------          --------------  -----  \n",
      " 0   year            771 non-null    int64  \n",
      " 1   month           771 non-null    int64  \n",
      " 2   decimal date    771 non-null    float64\n",
      " 3   average         771 non-null    float64\n",
      " 4   deseasonalized  771 non-null    float64\n",
      " 5   ndays           771 non-null    int64  \n",
      " 6   sdev            771 non-null    float64\n",
      " 7   unc             771 non-null    float64\n",
      "dtypes: float64(5), int64(3)\n",
      "memory usage: 48.3 KB\n"
     ]
    }
   ],
   "source": [
    "mm.info() # 확인결과 결측치 없음"
   ]
  },
  {
   "cell_type": "code",
   "execution_count": 75,
   "id": "89089dea",
   "metadata": {
    "ExecuteTime": {
     "end_time": "2022-06-05T13:28:40.847628Z",
     "start_time": "2022-06-05T13:28:40.749476Z"
    },
    "scrolled": true
   },
   "outputs": [
    {
     "data": {
      "text/html": [
       "<div>\n",
       "<style scoped>\n",
       "    .dataframe tbody tr th:only-of-type {\n",
       "        vertical-align: middle;\n",
       "    }\n",
       "\n",
       "    .dataframe tbody tr th {\n",
       "        vertical-align: top;\n",
       "    }\n",
       "\n",
       "    .dataframe thead th {\n",
       "        text-align: right;\n",
       "    }\n",
       "</style>\n",
       "<table border=\"1\" class=\"dataframe\">\n",
       "  <thead>\n",
       "    <tr style=\"text-align: right;\">\n",
       "      <th></th>\n",
       "      <th>year</th>\n",
       "      <th>month</th>\n",
       "      <th>decimal date</th>\n",
       "      <th>average</th>\n",
       "      <th>deseasonalized</th>\n",
       "      <th>ndays</th>\n",
       "      <th>sdev</th>\n",
       "      <th>unc</th>\n",
       "    </tr>\n",
       "  </thead>\n",
       "  <tbody>\n",
       "    <tr>\n",
       "      <th>count</th>\n",
       "      <td>771.000000</td>\n",
       "      <td>771.000000</td>\n",
       "      <td>771.000000</td>\n",
       "      <td>771.000000</td>\n",
       "      <td>771.000000</td>\n",
       "      <td>771.000000</td>\n",
       "      <td>771.000000</td>\n",
       "      <td>771.000000</td>\n",
       "    </tr>\n",
       "    <tr>\n",
       "      <th>mean</th>\n",
       "      <td>1989.792477</td>\n",
       "      <td>6.490272</td>\n",
       "      <td>1990.291030</td>\n",
       "      <td>357.195590</td>\n",
       "      <td>357.183722</td>\n",
       "      <td>18.852140</td>\n",
       "      <td>-2.166757</td>\n",
       "      <td>-0.109001</td>\n",
       "    </tr>\n",
       "    <tr>\n",
       "      <th>std</th>\n",
       "      <td>18.562313</td>\n",
       "      <td>3.451459</td>\n",
       "      <td>18.560233</td>\n",
       "      <td>30.205259</td>\n",
       "      <td>30.130620</td>\n",
       "      <td>12.095676</td>\n",
       "      <td>4.573579</td>\n",
       "      <td>0.519067</td>\n",
       "    </tr>\n",
       "    <tr>\n",
       "      <th>min</th>\n",
       "      <td>1958.000000</td>\n",
       "      <td>1.000000</td>\n",
       "      <td>1958.202700</td>\n",
       "      <td>312.430000</td>\n",
       "      <td>314.430000</td>\n",
       "      <td>-1.000000</td>\n",
       "      <td>-9.990000</td>\n",
       "      <td>-0.990000</td>\n",
       "    </tr>\n",
       "    <tr>\n",
       "      <th>25%</th>\n",
       "      <td>1974.000000</td>\n",
       "      <td>3.500000</td>\n",
       "      <td>1974.245200</td>\n",
       "      <td>329.570000</td>\n",
       "      <td>330.215000</td>\n",
       "      <td>-1.000000</td>\n",
       "      <td>-9.990000</td>\n",
       "      <td>-0.990000</td>\n",
       "    </tr>\n",
       "    <tr>\n",
       "      <th>50%</th>\n",
       "      <td>1990.000000</td>\n",
       "      <td>6.000000</td>\n",
       "      <td>1990.291700</td>\n",
       "      <td>353.890000</td>\n",
       "      <td>354.230000</td>\n",
       "      <td>25.000000</td>\n",
       "      <td>0.390000</td>\n",
       "      <td>0.150000</td>\n",
       "    </tr>\n",
       "    <tr>\n",
       "      <th>75%</th>\n",
       "      <td>2006.000000</td>\n",
       "      <td>9.000000</td>\n",
       "      <td>2006.333350</td>\n",
       "      <td>381.800000</td>\n",
       "      <td>381.995000</td>\n",
       "      <td>28.000000</td>\n",
       "      <td>0.560000</td>\n",
       "      <td>0.210000</td>\n",
       "    </tr>\n",
       "    <tr>\n",
       "      <th>max</th>\n",
       "      <td>2022.000000</td>\n",
       "      <td>12.000000</td>\n",
       "      <td>2022.375000</td>\n",
       "      <td>420.990000</td>\n",
       "      <td>418.320000</td>\n",
       "      <td>31.000000</td>\n",
       "      <td>1.310000</td>\n",
       "      <td>0.580000</td>\n",
       "    </tr>\n",
       "  </tbody>\n",
       "</table>\n",
       "</div>"
      ],
      "text/plain": [
       "              year       month  decimal date     average  deseasonalized  \\\n",
       "count   771.000000  771.000000    771.000000  771.000000      771.000000   \n",
       "mean   1989.792477    6.490272   1990.291030  357.195590      357.183722   \n",
       "std      18.562313    3.451459     18.560233   30.205259       30.130620   \n",
       "min    1958.000000    1.000000   1958.202700  312.430000      314.430000   \n",
       "25%    1974.000000    3.500000   1974.245200  329.570000      330.215000   \n",
       "50%    1990.000000    6.000000   1990.291700  353.890000      354.230000   \n",
       "75%    2006.000000    9.000000   2006.333350  381.800000      381.995000   \n",
       "max    2022.000000   12.000000   2022.375000  420.990000      418.320000   \n",
       "\n",
       "            ndays        sdev         unc  \n",
       "count  771.000000  771.000000  771.000000  \n",
       "mean    18.852140   -2.166757   -0.109001  \n",
       "std     12.095676    4.573579    0.519067  \n",
       "min     -1.000000   -9.990000   -0.990000  \n",
       "25%     -1.000000   -9.990000   -0.990000  \n",
       "50%     25.000000    0.390000    0.150000  \n",
       "75%     28.000000    0.560000    0.210000  \n",
       "max     31.000000    1.310000    0.580000  "
      ]
     },
     "execution_count": 75,
     "metadata": {},
     "output_type": "execute_result"
    }
   ],
   "source": [
    "mm.describe()"
   ]
  },
  {
   "cell_type": "code",
   "execution_count": 76,
   "id": "8ef8ccfa",
   "metadata": {
    "ExecuteTime": {
     "end_time": "2022-06-05T13:28:43.309545Z",
     "start_time": "2022-06-05T13:28:43.271547Z"
    }
   },
   "outputs": [],
   "source": [
    "# 'year'와 'month'를 합쳐서 'date'라는 datamtime 형식으로 만듬\n",
    "'''다른 방식 : \n",
    "def to_datetime(row) :\n",
    "    return dt.date(int(row.year), int(row.month), 1).strftime('%Y-%m')\n",
    "mm['date'] = mm.apply(to_datetime, axis =1)'''\n",
    "\n",
    "mm['date'] = pd.to_datetime(mm[['year','month']].assign(day=1))"
   ]
  },
  {
   "cell_type": "code",
   "execution_count": 77,
   "id": "60276a79",
   "metadata": {
    "ExecuteTime": {
     "end_time": "2022-06-05T13:28:45.735242Z",
     "start_time": "2022-06-05T13:28:45.281962Z"
    }
   },
   "outputs": [
    {
     "data": {
      "text/plain": [
       "<AxesSubplot:xlabel='date', ylabel='average'>"
      ]
     },
     "execution_count": 77,
     "metadata": {},
     "output_type": "execute_result"
    },
    {
     "data": {
      "image/png": "[encoded data removed]",
      "text/plain": [
       "<Figure size 432x288 with 1 Axes>"
      ]
     },
     "metadata": {
      "needs_background": "light"
     },
     "output_type": "display_data"
    }
   ],
   "source": [
    "# 계절성 포함\n",
    "sns.scatterplot(x='date', y='average', data=mm)"
   ]
  },
  {
   "cell_type": "code",
   "execution_count": 78,
   "id": "9a672ce7",
   "metadata": {
    "ExecuteTime": {
     "end_time": "2022-06-05T13:28:49.625130Z",
     "start_time": "2022-06-05T13:28:48.942509Z"
    }
   },
   "outputs": [
    {
     "data": {
      "text/plain": [
       "<AxesSubplot:xlabel='date', ylabel='deseasonalized'>"
      ]
     },
     "execution_count": 78,
     "metadata": {},
     "output_type": "execute_result"
    },
    {
     "data": {
      "image/png": "[encoded data removed]",
      "text/plain": [
       "<Figure size 432x288 with 1 Axes>"
      ]
     },
     "metadata": {
      "needs_background": "light"
     },
     "output_type": "display_data"
    }
   ],
   "source": [
    "# 계절성 제거\n",
    "sns.scatterplot(x='date', y='deseasonalized', data=mm)"
   ]
  },
  {
   "cell_type": "markdown",
   "id": "421c79a5",
   "metadata": {},
   "source": [
    "2 weekly mean and **historical comparisons**"
   ]
  },
  {
   "cell_type": "code",
   "execution_count": 79,
   "id": "3632252e",
   "metadata": {
    "ExecuteTime": {
     "end_time": "2022-06-05T13:29:35.806331Z",
     "start_time": "2022-06-05T13:29:35.771339Z"
    }
   },
   "outputs": [],
   "source": [
    "hist = pd.read_csv('./data/co2_weekly_mlo.csv')"
   ]
  },
  {
   "cell_type": "code",
   "execution_count": 80,
   "id": "2ccf8e26",
   "metadata": {
    "ExecuteTime": {
     "end_time": "2022-06-05T13:29:36.903817Z",
     "start_time": "2022-06-05T13:29:36.848158Z"
    }
   },
   "outputs": [
    {
     "data": {
      "text/html": [
       "<div>\n",
       "<style scoped>\n",
       "    .dataframe tbody tr th:only-of-type {\n",
       "        vertical-align: middle;\n",
       "    }\n",
       "\n",
       "    .dataframe tbody tr th {\n",
       "        vertical-align: top;\n",
       "    }\n",
       "\n",
       "    .dataframe thead th {\n",
       "        text-align: right;\n",
       "    }\n",
       "</style>\n",
       "<table border=\"1\" class=\"dataframe\">\n",
       "  <thead>\n",
       "    <tr style=\"text-align: right;\">\n",
       "      <th></th>\n",
       "      <th>year</th>\n",
       "      <th>month</th>\n",
       "      <th>day</th>\n",
       "      <th>decimal</th>\n",
       "      <th>average</th>\n",
       "      <th>ndays</th>\n",
       "      <th>1 year ago</th>\n",
       "      <th>10 years ago</th>\n",
       "      <th>increase since 1800</th>\n",
       "    </tr>\n",
       "  </thead>\n",
       "  <tbody>\n",
       "    <tr>\n",
       "      <th>0</th>\n",
       "      <td>1974</td>\n",
       "      <td>5</td>\n",
       "      <td>19</td>\n",
       "      <td>1974.3795</td>\n",
       "      <td>333.37</td>\n",
       "      <td>5</td>\n",
       "      <td>-999.99</td>\n",
       "      <td>-999.99</td>\n",
       "      <td>50.40</td>\n",
       "    </tr>\n",
       "    <tr>\n",
       "      <th>1</th>\n",
       "      <td>1974</td>\n",
       "      <td>5</td>\n",
       "      <td>26</td>\n",
       "      <td>1974.3986</td>\n",
       "      <td>332.95</td>\n",
       "      <td>6</td>\n",
       "      <td>-999.99</td>\n",
       "      <td>-999.99</td>\n",
       "      <td>50.06</td>\n",
       "    </tr>\n",
       "    <tr>\n",
       "      <th>2</th>\n",
       "      <td>1974</td>\n",
       "      <td>6</td>\n",
       "      <td>2</td>\n",
       "      <td>1974.4178</td>\n",
       "      <td>332.35</td>\n",
       "      <td>5</td>\n",
       "      <td>-999.99</td>\n",
       "      <td>-999.99</td>\n",
       "      <td>49.60</td>\n",
       "    </tr>\n",
       "    <tr>\n",
       "      <th>3</th>\n",
       "      <td>1974</td>\n",
       "      <td>6</td>\n",
       "      <td>9</td>\n",
       "      <td>1974.4370</td>\n",
       "      <td>332.20</td>\n",
       "      <td>7</td>\n",
       "      <td>-999.99</td>\n",
       "      <td>-999.99</td>\n",
       "      <td>49.65</td>\n",
       "    </tr>\n",
       "    <tr>\n",
       "      <th>4</th>\n",
       "      <td>1974</td>\n",
       "      <td>6</td>\n",
       "      <td>16</td>\n",
       "      <td>1974.4562</td>\n",
       "      <td>332.37</td>\n",
       "      <td>7</td>\n",
       "      <td>-999.99</td>\n",
       "      <td>-999.99</td>\n",
       "      <td>50.06</td>\n",
       "    </tr>\n",
       "  </tbody>\n",
       "</table>\n",
       "</div>"
      ],
      "text/plain": [
       "   year  month  day    decimal  average  ndays  1 year ago  10 years ago  \\\n",
       "0  1974      5   19  1974.3795   333.37      5     -999.99       -999.99   \n",
       "1  1974      5   26  1974.3986   332.95      6     -999.99       -999.99   \n",
       "2  1974      6    2  1974.4178   332.35      5     -999.99       -999.99   \n",
       "3  1974      6    9  1974.4370   332.20      7     -999.99       -999.99   \n",
       "4  1974      6   16  1974.4562   332.37      7     -999.99       -999.99   \n",
       "\n",
       "   increase since 1800  \n",
       "0                50.40  \n",
       "1                50.06  \n",
       "2                49.60  \n",
       "3                49.65  \n",
       "4                50.06  "
      ]
     },
     "execution_count": 80,
     "metadata": {},
     "output_type": "execute_result"
    }
   ],
   "source": [
    "hist.head()"
   ]
  },
  {
   "cell_type": "code",
   "execution_count": 81,
   "id": "a3a142f0",
   "metadata": {
    "ExecuteTime": {
     "end_time": "2022-06-05T13:29:37.866312Z",
     "start_time": "2022-06-05T13:29:37.830773Z"
    }
   },
   "outputs": [
    {
     "name": "stdout",
     "output_type": "stream",
     "text": [
      "<class 'pandas.core.frame.DataFrame'>\n",
      "RangeIndex: 2506 entries, 0 to 2505\n",
      "Data columns (total 9 columns):\n",
      " #   Column               Non-Null Count  Dtype  \n",
      "---  ------               --------------  -----  \n",
      " 0   year                 2506 non-null   int64  \n",
      " 1   month                2506 non-null   int64  \n",
      " 2   day                  2506 non-null   int64  \n",
      " 3   decimal              2506 non-null   float64\n",
      " 4   average              2506 non-null   float64\n",
      " 5   ndays                2506 non-null   int64  \n",
      " 6   1 year ago           2506 non-null   float64\n",
      " 7   10 years ago         2506 non-null   float64\n",
      " 8   increase since 1800  2506 non-null   float64\n",
      "dtypes: float64(5), int64(4)\n",
      "memory usage: 176.3 KB\n"
     ]
    }
   ],
   "source": [
    "hist.info()"
   ]
  },
  {
   "cell_type": "code",
   "execution_count": 82,
   "id": "529dc8c5",
   "metadata": {
    "ExecuteTime": {
     "end_time": "2022-06-05T13:29:49.613278Z",
     "start_time": "2022-06-05T13:29:49.579277Z"
    }
   },
   "outputs": [],
   "source": [
    "# 'year', 'month', 'day'를 합쳐서 'date'라는 datamtime 형식으로 만듬\n",
    "hist['date'] = pd.to_datetime(hist[['year','month','day']])"
   ]
  },
  {
   "cell_type": "code",
   "execution_count": 83,
   "id": "07200a59",
   "metadata": {
    "ExecuteTime": {
     "end_time": "2022-06-05T13:29:51.573694Z",
     "start_time": "2022-06-05T13:29:51.503973Z"
    }
   },
   "outputs": [
    {
     "data": {
      "text/html": [
       "<div>\n",
       "<style scoped>\n",
       "    .dataframe tbody tr th:only-of-type {\n",
       "        vertical-align: middle;\n",
       "    }\n",
       "\n",
       "    .dataframe tbody tr th {\n",
       "        vertical-align: top;\n",
       "    }\n",
       "\n",
       "    .dataframe thead th {\n",
       "        text-align: right;\n",
       "    }\n",
       "</style>\n",
       "<table border=\"1\" class=\"dataframe\">\n",
       "  <thead>\n",
       "    <tr style=\"text-align: right;\">\n",
       "      <th></th>\n",
       "      <th>year</th>\n",
       "      <th>month</th>\n",
       "      <th>day</th>\n",
       "      <th>decimal</th>\n",
       "      <th>average</th>\n",
       "      <th>ndays</th>\n",
       "      <th>1 year ago</th>\n",
       "      <th>10 years ago</th>\n",
       "      <th>increase since 1800</th>\n",
       "      <th>date</th>\n",
       "    </tr>\n",
       "  </thead>\n",
       "  <tbody>\n",
       "    <tr>\n",
       "      <th>0</th>\n",
       "      <td>1974</td>\n",
       "      <td>5</td>\n",
       "      <td>19</td>\n",
       "      <td>1974.3795</td>\n",
       "      <td>333.37</td>\n",
       "      <td>5</td>\n",
       "      <td>-999.99</td>\n",
       "      <td>-999.99</td>\n",
       "      <td>50.40</td>\n",
       "      <td>1974-05-19</td>\n",
       "    </tr>\n",
       "    <tr>\n",
       "      <th>1</th>\n",
       "      <td>1974</td>\n",
       "      <td>5</td>\n",
       "      <td>26</td>\n",
       "      <td>1974.3986</td>\n",
       "      <td>332.95</td>\n",
       "      <td>6</td>\n",
       "      <td>-999.99</td>\n",
       "      <td>-999.99</td>\n",
       "      <td>50.06</td>\n",
       "      <td>1974-05-26</td>\n",
       "    </tr>\n",
       "    <tr>\n",
       "      <th>2</th>\n",
       "      <td>1974</td>\n",
       "      <td>6</td>\n",
       "      <td>2</td>\n",
       "      <td>1974.4178</td>\n",
       "      <td>332.35</td>\n",
       "      <td>5</td>\n",
       "      <td>-999.99</td>\n",
       "      <td>-999.99</td>\n",
       "      <td>49.60</td>\n",
       "      <td>1974-06-02</td>\n",
       "    </tr>\n",
       "    <tr>\n",
       "      <th>3</th>\n",
       "      <td>1974</td>\n",
       "      <td>6</td>\n",
       "      <td>9</td>\n",
       "      <td>1974.4370</td>\n",
       "      <td>332.20</td>\n",
       "      <td>7</td>\n",
       "      <td>-999.99</td>\n",
       "      <td>-999.99</td>\n",
       "      <td>49.65</td>\n",
       "      <td>1974-06-09</td>\n",
       "    </tr>\n",
       "    <tr>\n",
       "      <th>4</th>\n",
       "      <td>1974</td>\n",
       "      <td>6</td>\n",
       "      <td>16</td>\n",
       "      <td>1974.4562</td>\n",
       "      <td>332.37</td>\n",
       "      <td>7</td>\n",
       "      <td>-999.99</td>\n",
       "      <td>-999.99</td>\n",
       "      <td>50.06</td>\n",
       "      <td>1974-06-16</td>\n",
       "    </tr>\n",
       "  </tbody>\n",
       "</table>\n",
       "</div>"
      ],
      "text/plain": [
       "   year  month  day    decimal  average  ndays  1 year ago  10 years ago  \\\n",
       "0  1974      5   19  1974.3795   333.37      5     -999.99       -999.99   \n",
       "1  1974      5   26  1974.3986   332.95      6     -999.99       -999.99   \n",
       "2  1974      6    2  1974.4178   332.35      5     -999.99       -999.99   \n",
       "3  1974      6    9  1974.4370   332.20      7     -999.99       -999.99   \n",
       "4  1974      6   16  1974.4562   332.37      7     -999.99       -999.99   \n",
       "\n",
       "   increase since 1800       date  \n",
       "0                50.40 1974-05-19  \n",
       "1                50.06 1974-05-26  \n",
       "2                49.60 1974-06-02  \n",
       "3                49.65 1974-06-09  \n",
       "4                50.06 1974-06-16  "
      ]
     },
     "execution_count": 83,
     "metadata": {},
     "output_type": "execute_result"
    }
   ],
   "source": [
    "hist.head()"
   ]
  },
  {
   "cell_type": "code",
   "execution_count": 84,
   "id": "31f3bbc4",
   "metadata": {
    "ExecuteTime": {
     "end_time": "2022-06-05T13:29:59.295857Z",
     "start_time": "2022-06-05T13:29:58.750824Z"
    }
   },
   "outputs": [
    {
     "data": {
      "text/plain": [
       "<AxesSubplot:xlabel='date', ylabel='increase since 1800'>"
      ]
     },
     "execution_count": 84,
     "metadata": {},
     "output_type": "execute_result"
    },
    {
     "data": {
      "image/png": "[encoded data removed]",
      "text/plain": [
       "<Figure size 432x288 with 1 Axes>"
      ]
     },
     "metadata": {
      "needs_background": "light"
     },
     "output_type": "display_data"
    }
   ],
   "source": [
    "sns.scatterplot(x='date', y='increase since 1800',data=hist)"
   ]
  },
  {
   "cell_type": "markdown",
   "id": "0d1cab7c",
   "metadata": {
    "ExecuteTime": {
     "end_time": "2022-06-05T05:18:30.902740Z",
     "start_time": "2022-06-05T05:18:30.882179Z"
    }
   },
   "source": [
    "3 annual mean **growth rates**"
   ]
  },
  {
   "cell_type": "code",
   "execution_count": 85,
   "id": "008ade85",
   "metadata": {
    "ExecuteTime": {
     "end_time": "2022-06-05T13:30:05.026161Z",
     "start_time": "2022-06-05T13:30:04.990592Z"
    }
   },
   "outputs": [],
   "source": [
    "gr = pd.read_csv('./data/co2_gr_mlo.csv')"
   ]
  },
  {
   "cell_type": "code",
   "execution_count": 86,
   "id": "a9f516f1",
   "metadata": {
    "ExecuteTime": {
     "end_time": "2022-06-05T13:30:07.046103Z",
     "start_time": "2022-06-05T13:30:07.004554Z"
    }
   },
   "outputs": [
    {
     "data": {
      "text/html": [
       "<div>\n",
       "<style scoped>\n",
       "    .dataframe tbody tr th:only-of-type {\n",
       "        vertical-align: middle;\n",
       "    }\n",
       "\n",
       "    .dataframe tbody tr th {\n",
       "        vertical-align: top;\n",
       "    }\n",
       "\n",
       "    .dataframe thead th {\n",
       "        text-align: right;\n",
       "    }\n",
       "</style>\n",
       "<table border=\"1\" class=\"dataframe\">\n",
       "  <thead>\n",
       "    <tr style=\"text-align: right;\">\n",
       "      <th></th>\n",
       "      <th>year</th>\n",
       "      <th>ann inc</th>\n",
       "      <th>unc</th>\n",
       "    </tr>\n",
       "  </thead>\n",
       "  <tbody>\n",
       "    <tr>\n",
       "      <th>0</th>\n",
       "      <td>1959</td>\n",
       "      <td>0.94</td>\n",
       "      <td>0.11</td>\n",
       "    </tr>\n",
       "    <tr>\n",
       "      <th>1</th>\n",
       "      <td>1960</td>\n",
       "      <td>0.50</td>\n",
       "      <td>0.11</td>\n",
       "    </tr>\n",
       "    <tr>\n",
       "      <th>2</th>\n",
       "      <td>1961</td>\n",
       "      <td>0.96</td>\n",
       "      <td>0.11</td>\n",
       "    </tr>\n",
       "    <tr>\n",
       "      <th>3</th>\n",
       "      <td>1962</td>\n",
       "      <td>0.64</td>\n",
       "      <td>0.11</td>\n",
       "    </tr>\n",
       "    <tr>\n",
       "      <th>4</th>\n",
       "      <td>1963</td>\n",
       "      <td>0.71</td>\n",
       "      <td>0.11</td>\n",
       "    </tr>\n",
       "  </tbody>\n",
       "</table>\n",
       "</div>"
      ],
      "text/plain": [
       "   year  ann inc   unc\n",
       "0  1959     0.94  0.11\n",
       "1  1960     0.50  0.11\n",
       "2  1961     0.96  0.11\n",
       "3  1962     0.64  0.11\n",
       "4  1963     0.71  0.11"
      ]
     },
     "execution_count": 86,
     "metadata": {},
     "output_type": "execute_result"
    }
   ],
   "source": [
    "gr.head()"
   ]
  },
  {
   "cell_type": "code",
   "execution_count": 87,
   "id": "9d89f9e9",
   "metadata": {
    "ExecuteTime": {
     "end_time": "2022-06-05T13:30:10.577501Z",
     "start_time": "2022-06-05T13:30:10.109213Z"
    },
    "scrolled": true
   },
   "outputs": [
    {
     "data": {
      "text/plain": [
       "<AxesSubplot:xlabel='year', ylabel='ann inc'>"
      ]
     },
     "execution_count": 87,
     "metadata": {},
     "output_type": "execute_result"
    },
    {
     "data": {
      "image/png": "[encoded data removed]",
      "text/plain": [
       "<Figure size 432x288 with 1 Axes>"
      ]
     },
     "metadata": {
      "needs_background": "light"
     },
     "output_type": "display_data"
    }
   ],
   "source": [
    "sns.scatterplot(x='year', y='ann inc', data=gr)"
   ]
  },
  {
   "cell_type": "markdown",
   "id": "59c6dc30",
   "metadata": {},
   "source": [
    "4 annual mean data"
   ]
  },
  {
   "cell_type": "code",
   "execution_count": 88,
   "id": "ea3c40fa",
   "metadata": {
    "ExecuteTime": {
     "end_time": "2022-06-05T13:30:24.631348Z",
     "start_time": "2022-06-05T13:30:24.597785Z"
    }
   },
   "outputs": [],
   "source": [
    "ann = pd.read_csv('./data/co2_annmean_mlo.csv')"
   ]
  },
  {
   "cell_type": "code",
   "execution_count": 89,
   "id": "195d8cc8",
   "metadata": {
    "ExecuteTime": {
     "end_time": "2022-06-05T13:30:25.767231Z",
     "start_time": "2022-06-05T13:30:25.729093Z"
    }
   },
   "outputs": [
    {
     "data": {
      "text/html": [
       "<div>\n",
       "<style scoped>\n",
       "    .dataframe tbody tr th:only-of-type {\n",
       "        vertical-align: middle;\n",
       "    }\n",
       "\n",
       "    .dataframe tbody tr th {\n",
       "        vertical-align: top;\n",
       "    }\n",
       "\n",
       "    .dataframe thead th {\n",
       "        text-align: right;\n",
       "    }\n",
       "</style>\n",
       "<table border=\"1\" class=\"dataframe\">\n",
       "  <thead>\n",
       "    <tr style=\"text-align: right;\">\n",
       "      <th></th>\n",
       "      <th>year</th>\n",
       "      <th>mean</th>\n",
       "      <th>unc</th>\n",
       "    </tr>\n",
       "  </thead>\n",
       "  <tbody>\n",
       "    <tr>\n",
       "      <th>0</th>\n",
       "      <td>1959</td>\n",
       "      <td>315.98</td>\n",
       "      <td>0.12</td>\n",
       "    </tr>\n",
       "    <tr>\n",
       "      <th>1</th>\n",
       "      <td>1960</td>\n",
       "      <td>316.91</td>\n",
       "      <td>0.12</td>\n",
       "    </tr>\n",
       "    <tr>\n",
       "      <th>2</th>\n",
       "      <td>1961</td>\n",
       "      <td>317.64</td>\n",
       "      <td>0.12</td>\n",
       "    </tr>\n",
       "    <tr>\n",
       "      <th>3</th>\n",
       "      <td>1962</td>\n",
       "      <td>318.45</td>\n",
       "      <td>0.12</td>\n",
       "    </tr>\n",
       "    <tr>\n",
       "      <th>4</th>\n",
       "      <td>1963</td>\n",
       "      <td>318.99</td>\n",
       "      <td>0.12</td>\n",
       "    </tr>\n",
       "  </tbody>\n",
       "</table>\n",
       "</div>"
      ],
      "text/plain": [
       "   year    mean   unc\n",
       "0  1959  315.98  0.12\n",
       "1  1960  316.91  0.12\n",
       "2  1961  317.64  0.12\n",
       "3  1962  318.45  0.12\n",
       "4  1963  318.99  0.12"
      ]
     },
     "execution_count": 89,
     "metadata": {},
     "output_type": "execute_result"
    }
   ],
   "source": [
    "ann.head()"
   ]
  },
  {
   "cell_type": "code",
   "execution_count": 90,
   "id": "03f0655e",
   "metadata": {
    "ExecuteTime": {
     "end_time": "2022-06-05T13:30:28.584236Z",
     "start_time": "2022-06-05T13:30:28.172993Z"
    }
   },
   "outputs": [
    {
     "data": {
      "text/plain": [
       "<AxesSubplot:xlabel='year', ylabel='mean'>"
      ]
     },
     "execution_count": 90,
     "metadata": {},
     "output_type": "execute_result"
    },
    {
     "data": {
      "image/png": "[encoded data removed]",
      "text/plain": [
       "<Figure size 432x288 with 1 Axes>"
      ]
     },
     "metadata": {
      "needs_background": "light"
     },
     "output_type": "display_data"
    }
   ],
   "source": [
    "sns.scatterplot(x='year',y='mean',data=ann)"
   ]
  }
 ],
 "metadata": {
  "kernelspec": {
   "display_name": "Python 3 (ipykernel)",
   "language": "python",
   "name": "python3"
  },
  "language_info": {
   "codemirror_mode": {
    "name": "ipython",
    "version": 3
   },
   "file_extension": ".py",
   "mimetype": "text/x-python",
   "name": "python",
   "nbconvert_exporter": "python",
   "pygments_lexer": "ipython3",
   "version": "3.9.7"
  },
  "toc": {
   "base_numbering": 1,
   "nav_menu": {},
   "number_sections": true,
   "sideBar": true,
   "skip_h1_title": false,
   "title_cell": "Table of Contents",
   "title_sidebar": "Contents",
   "toc_cell": false,
   "toc_position": {},
   "toc_section_display": true,
   "toc_window_display": false
  }
 },
 "nbformat": 4,
 "nbformat_minor": 5
}
